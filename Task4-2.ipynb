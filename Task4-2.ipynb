{
 "cells": [
  {
   "cell_type": "code",
   "execution_count": 1,
   "id": "c706e39e",
   "metadata": {},
   "outputs": [],
   "source": [
    "import cv2"
   ]
  },
  {
   "cell_type": "code",
   "execution_count": 2,
   "id": "4e607594",
   "metadata": {
    "scrolled": true
   },
   "outputs": [],
   "source": [
    "image1=cv2.imread('image1.jpg')"
   ]
  },
  {
   "cell_type": "code",
   "execution_count": 3,
   "id": "4831ef2c",
   "metadata": {},
   "outputs": [
    {
     "data": {
      "text/plain": [
       "(204, 204, 3)"
      ]
     },
     "execution_count": 3,
     "metadata": {},
     "output_type": "execute_result"
    }
   ],
   "source": [
    "image1.shape"
   ]
  },
  {
   "cell_type": "code",
   "execution_count": 4,
   "id": "18391c8e",
   "metadata": {
    "scrolled": true
   },
   "outputs": [],
   "source": [
    "image2=cv2.imread('image2.jpg')"
   ]
  },
  {
   "cell_type": "code",
   "execution_count": 5,
   "id": "a440ce29",
   "metadata": {},
   "outputs": [
    {
     "data": {
      "text/plain": [
       "(168, 300, 3)"
      ]
     },
     "execution_count": 5,
     "metadata": {},
     "output_type": "execute_result"
    }
   ],
   "source": [
    "image2.shape"
   ]
  },
  {
   "cell_type": "code",
   "execution_count": 6,
   "id": "5910aaea",
   "metadata": {},
   "outputs": [],
   "source": [
    "cv2.imshow('image1',image1)\n",
    "cv2.imshow('image2',image2)\n",
    "cv2.waitKey()\n",
    "cv2.destroyAllWindows()\n"
   ]
  },
  {
   "cell_type": "code",
   "execution_count": null,
   "id": "0a3677c3",
   "metadata": {},
   "outputs": [],
   "source": [
    "crop_image1=image1[0:100,30:150]\n",
    "image2[0:100,30:150]=crop_image1\n",
    "cv2.imshow(\"swap1\",image2)\n",
    "cv2.waitKey()\n",
    "cv2.destroyAllWindows()\n"
   ]
  },
  {
   "cell_type": "code",
   "execution_count": null,
   "id": "76ee3210",
   "metadata": {},
   "outputs": [],
   "source": [
    "crop_image2=image2[0:150,30:150]\n",
    "image1[0:150,30:150]=crop_image2\n",
    "cv2.imshow(\"swap2\",image1)\n",
    "cv2.waitKey()\n",
    "cv2.destroyAllWindows()\n",
    "\n"
   ]
  }
 ],
 "metadata": {
  "kernelspec": {
   "display_name": "Python 3",
   "language": "python",
   "name": "python3"
  },
  "language_info": {
   "codemirror_mode": {
    "name": "ipython",
    "version": 3
   },
   "file_extension": ".py",
   "mimetype": "text/x-python",
   "name": "python",
   "nbconvert_exporter": "python",
   "pygments_lexer": "ipython3",
   "version": "3.8.8"
  }
 },
 "nbformat": 4,
 "nbformat_minor": 5
}
