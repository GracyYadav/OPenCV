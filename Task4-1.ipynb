{
 "cells": [
  {
   "cell_type": "code",
   "execution_count": null,
   "id": "1111102b",
   "metadata": {},
   "outputs": [],
   "source": [
    "import cv2\n",
    "import numpy as np"
   ]
  },
  {
   "cell_type": "code",
   "execution_count": null,
   "id": "0e946853",
   "metadata": {},
   "outputs": [],
   "source": [
    "photo = np.zeros((300,300,3))"
   ]
  },
  {
   "cell_type": "code",
   "execution_count": null,
   "id": "2d430814",
   "metadata": {},
   "outputs": [],
   "source": [
    "photo.shape"
   ]
  },
  {
   "cell_type": "code",
   "execution_count": null,
   "id": "1723885d",
   "metadata": {},
   "outputs": [],
   "source": [
    "pt2 = (105, 30)\n",
    "pt1 = (60,100)\n",
    "pt3 = (150, 100)\n",
    "\n",
    "triangle_cnt = np.array( [pt1, pt2, pt3] )\n",
    "cv2.drawContours(photo, [triangle_cnt], 0, (0,255,0), -1)\n",
    "\n",
    "#*********************Moon**********************\n",
    "# Center coordinates\n",
    "center_coordinates = (200, 50)\n",
    "# Radius of circle\n",
    "radius = 20\n",
    "# White color in BGR\n",
    "color = (118, 130, 115)\n",
    "# Line thickness of 2 px\n",
    "thickness = 35\n",
    "cv2.circle(photo,center_coordinates, radius,color, thickness)"
   ]
  },
  {
   "cell_type": "code",
   "execution_count": null,
   "id": "8acbca60",
   "metadata": {},
   "outputs": [],
   "source": [
    "photo[100:150,60:65] =  [0,255,0]\n",
    "photo[120:150,95:120] =  [0,255,255] # gate\n",
    "photo[100:150,145:150] =  [0,255,0]\n",
    "photo[150:170,60:150] = [0,0,255] # base"
   ]
  },
  {
   "cell_type": "code",
   "execution_count": null,
   "id": "5485535d",
   "metadata": {},
   "outputs": [],
   "source": [
    "cv2.imshow(\"image\", photo)\n",
    "cv2.waitKey()\n",
    "cv2.destroyAllWindows()"
   ]
  }
 ],
 "metadata": {
  "kernelspec": {
   "display_name": "Python 3",
   "language": "python",
   "name": "python3"
  },
  "language_info": {
   "codemirror_mode": {
    "name": "ipython",
    "version": 3
   },
   "file_extension": ".py",
   "mimetype": "text/x-python",
   "name": "python",
   "nbconvert_exporter": "python",
   "pygments_lexer": "ipython3",
   "version": "3.8.8"
  }
 },
 "nbformat": 4,
 "nbformat_minor": 5
}
